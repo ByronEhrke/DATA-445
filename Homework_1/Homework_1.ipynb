{
 "cells": [
  {
   "cell_type": "code",
   "execution_count": null,
   "id": "d5fd3ebb",
   "metadata": {},
   "outputs": [],
   "source": [
    "#1.\n",
    "# You could use an unsupervised learning algorithm for this problem. This could also be said as a clustering algorithm which\n",
    "# will group clusters into patterns or groups. "
   ]
  },
  {
   "cell_type": "code",
   "execution_count": null,
   "id": "a4a4ff7e",
   "metadata": {},
   "outputs": [],
   "source": [
    "#2.\n",
    "# Spam dectection would be a supervised learning problem as there is a target variable that you would have. You would use \n",
    "# a target variable to find if it will be a spam detection or not otherwise you would have no way to look for if it is a \n",
    "# spam."
   ]
  },
  {
   "cell_type": "code",
   "execution_count": null,
   "id": "83e7c836",
   "metadata": {},
   "outputs": [],
   "source": [
    "#3.\n",
    "# A test set is used to quantify performance of the data. You use a target variable and test a certain group of the data \n",
    "# in order to find out if the module you have created will have significance and if the module works for what problem\n",
    "# you are trying to solve."
   ]
  },
  {
   "cell_type": "code",
   "execution_count": null,
   "id": "cc1ad10d",
   "metadata": {},
   "outputs": [],
   "source": [
    "#4. \n",
    "# e"
   ]
  },
  {
   "cell_type": "code",
   "execution_count": 2,
   "id": "01d26f80",
   "metadata": {},
   "outputs": [
    {
     "data": {
      "text/html": [
       "<div>\n",
       "<style scoped>\n",
       "    .dataframe tbody tr th:only-of-type {\n",
       "        vertical-align: middle;\n",
       "    }\n",
       "\n",
       "    .dataframe tbody tr th {\n",
       "        vertical-align: top;\n",
       "    }\n",
       "\n",
       "    .dataframe thead th {\n",
       "        text-align: right;\n",
       "    }\n",
       "</style>\n",
       "<table border=\"1\" class=\"dataframe\">\n",
       "  <thead>\n",
       "    <tr style=\"text-align: right;\">\n",
       "      <th></th>\n",
       "      <th>No</th>\n",
       "      <th>transaction_date</th>\n",
       "      <th>house_age</th>\n",
       "      <th>distance_to_the_nearest_MRT_station</th>\n",
       "      <th>number_of_convenience_stores</th>\n",
       "      <th>latitude</th>\n",
       "      <th>longitude</th>\n",
       "      <th>house_price_of_unit_area</th>\n",
       "    </tr>\n",
       "  </thead>\n",
       "  <tbody>\n",
       "    <tr>\n",
       "      <th>0</th>\n",
       "      <td>1</td>\n",
       "      <td>2012.917</td>\n",
       "      <td>32.0</td>\n",
       "      <td>84.87882</td>\n",
       "      <td>10</td>\n",
       "      <td>24.98298</td>\n",
       "      <td>121.54024</td>\n",
       "      <td>37.9</td>\n",
       "    </tr>\n",
       "    <tr>\n",
       "      <th>1</th>\n",
       "      <td>2</td>\n",
       "      <td>2012.917</td>\n",
       "      <td>19.5</td>\n",
       "      <td>306.59470</td>\n",
       "      <td>9</td>\n",
       "      <td>24.98034</td>\n",
       "      <td>121.53951</td>\n",
       "      <td>42.2</td>\n",
       "    </tr>\n",
       "    <tr>\n",
       "      <th>2</th>\n",
       "      <td>3</td>\n",
       "      <td>2013.583</td>\n",
       "      <td>13.3</td>\n",
       "      <td>561.98450</td>\n",
       "      <td>5</td>\n",
       "      <td>24.98746</td>\n",
       "      <td>121.54391</td>\n",
       "      <td>47.3</td>\n",
       "    </tr>\n",
       "    <tr>\n",
       "      <th>3</th>\n",
       "      <td>4</td>\n",
       "      <td>2013.500</td>\n",
       "      <td>13.3</td>\n",
       "      <td>561.98450</td>\n",
       "      <td>5</td>\n",
       "      <td>24.98746</td>\n",
       "      <td>121.54391</td>\n",
       "      <td>54.8</td>\n",
       "    </tr>\n",
       "    <tr>\n",
       "      <th>4</th>\n",
       "      <td>5</td>\n",
       "      <td>2012.833</td>\n",
       "      <td>5.0</td>\n",
       "      <td>390.56840</td>\n",
       "      <td>5</td>\n",
       "      <td>24.97937</td>\n",
       "      <td>121.54245</td>\n",
       "      <td>43.1</td>\n",
       "    </tr>\n",
       "  </tbody>\n",
       "</table>\n",
       "</div>"
      ],
      "text/plain": [
       "   No  transaction_date  house_age  distance_to_the_nearest_MRT_station  \\\n",
       "0   1          2012.917       32.0                             84.87882   \n",
       "1   2          2012.917       19.5                            306.59470   \n",
       "2   3          2013.583       13.3                            561.98450   \n",
       "3   4          2013.500       13.3                            561.98450   \n",
       "4   5          2012.833        5.0                            390.56840   \n",
       "\n",
       "   number_of_convenience_stores  latitude  longitude  house_price_of_unit_area  \n",
       "0                            10  24.98298  121.54024                      37.9  \n",
       "1                             9  24.98034  121.53951                      42.2  \n",
       "2                             5  24.98746  121.54391                      47.3  \n",
       "3                             5  24.98746  121.54391                      54.8  \n",
       "4                             5  24.97937  121.54245                      43.1  "
      ]
     },
     "execution_count": 2,
     "metadata": {},
     "output_type": "execute_result"
    }
   ],
   "source": [
    "import boto3\n",
    "import numpy as np\n",
    "import pandas as pd\n",
    "\n",
    "s3= boto3.resource('s3')\n",
    "bucket_name= 'data-445-byron'\n",
    "bucket= s3.Bucket(bucket_name)\n",
    "\n",
    "file_key= 'Real_Estate(2).csv'\n",
    "\n",
    "bucket_object= bucket.Object(file_key)\n",
    "file_object = bucket_object.get()\n",
    "file_content_stream = file_object.get('Body')\n",
    "\n",
    "#reading the datefile\n",
    "house_price = pd.read_csv(file_content_stream)\n",
    "house_price.head()"
   ]
  },
  {
   "cell_type": "code",
   "execution_count": 3,
   "id": "624353cc",
   "metadata": {},
   "outputs": [
    {
     "data": {
      "text/html": [
       "<div>\n",
       "<style scoped>\n",
       "    .dataframe tbody tr th:only-of-type {\n",
       "        vertical-align: middle;\n",
       "    }\n",
       "\n",
       "    .dataframe tbody tr th {\n",
       "        vertical-align: top;\n",
       "    }\n",
       "\n",
       "    .dataframe thead th {\n",
       "        text-align: right;\n",
       "    }\n",
       "</style>\n",
       "<table border=\"1\" class=\"dataframe\">\n",
       "  <thead>\n",
       "    <tr style=\"text-align: right;\">\n",
       "      <th></th>\n",
       "      <th>house_age</th>\n",
       "      <th>distance_to_the_nearest_MRT_station</th>\n",
       "      <th>number_of_convenience_stores</th>\n",
       "      <th>latitude</th>\n",
       "      <th>longitude</th>\n",
       "      <th>house_price_of_unit_area</th>\n",
       "    </tr>\n",
       "  </thead>\n",
       "  <tbody>\n",
       "    <tr>\n",
       "      <th>0</th>\n",
       "      <td>32.0</td>\n",
       "      <td>84.87882</td>\n",
       "      <td>10</td>\n",
       "      <td>24.98298</td>\n",
       "      <td>121.54024</td>\n",
       "      <td>37.9</td>\n",
       "    </tr>\n",
       "    <tr>\n",
       "      <th>1</th>\n",
       "      <td>19.5</td>\n",
       "      <td>306.59470</td>\n",
       "      <td>9</td>\n",
       "      <td>24.98034</td>\n",
       "      <td>121.53951</td>\n",
       "      <td>42.2</td>\n",
       "    </tr>\n",
       "    <tr>\n",
       "      <th>2</th>\n",
       "      <td>13.3</td>\n",
       "      <td>561.98450</td>\n",
       "      <td>5</td>\n",
       "      <td>24.98746</td>\n",
       "      <td>121.54391</td>\n",
       "      <td>47.3</td>\n",
       "    </tr>\n",
       "    <tr>\n",
       "      <th>3</th>\n",
       "      <td>13.3</td>\n",
       "      <td>561.98450</td>\n",
       "      <td>5</td>\n",
       "      <td>24.98746</td>\n",
       "      <td>121.54391</td>\n",
       "      <td>54.8</td>\n",
       "    </tr>\n",
       "    <tr>\n",
       "      <th>4</th>\n",
       "      <td>5.0</td>\n",
       "      <td>390.56840</td>\n",
       "      <td>5</td>\n",
       "      <td>24.97937</td>\n",
       "      <td>121.54245</td>\n",
       "      <td>43.1</td>\n",
       "    </tr>\n",
       "  </tbody>\n",
       "</table>\n",
       "</div>"
      ],
      "text/plain": [
       "   house_age  distance_to_the_nearest_MRT_station  \\\n",
       "0       32.0                             84.87882   \n",
       "1       19.5                            306.59470   \n",
       "2       13.3                            561.98450   \n",
       "3       13.3                            561.98450   \n",
       "4        5.0                            390.56840   \n",
       "\n",
       "   number_of_convenience_stores  latitude  longitude  house_price_of_unit_area  \n",
       "0                            10  24.98298  121.54024                      37.9  \n",
       "1                             9  24.98034  121.53951                      42.2  \n",
       "2                             5  24.98746  121.54391                      47.3  \n",
       "3                             5  24.98746  121.54391                      54.8  \n",
       "4                             5  24.97937  121.54245                      43.1  "
      ]
     },
     "execution_count": 3,
     "metadata": {},
     "output_type": "execute_result"
    }
   ],
   "source": [
    "house_price = house_price.drop(columns= ['No', 'transaction_date'], axis=1)\n",
    "house_price.head()"
   ]
  },
  {
   "cell_type": "code",
   "execution_count": 4,
   "id": "40c1dd80",
   "metadata": {},
   "outputs": [],
   "source": [
    "from sklearn.model_selection import train_test_split\n",
    "\n",
    "x= house_price[['house_age', 'distance_to_the_nearest_MRT_station', 'number_of_convenience_stores', 'latitude', 'longitude']]\n",
    "y= house_price['house_price_of_unit_area']\n",
    "\n",
    "x_train, x_test, y_train, y_test = train_test_split(x, y, test_size= 0.2)"
   ]
  },
  {
   "cell_type": "code",
   "execution_count": 5,
   "id": "2089d9c8",
   "metadata": {},
   "outputs": [],
   "source": [
    "from sklearn.linear_model import LinearRegression\n",
    "\n",
    "lm = LinearRegression().fit(x_train, y_train)"
   ]
  },
  {
   "cell_type": "code",
   "execution_count": 6,
   "id": "373256e5",
   "metadata": {},
   "outputs": [
    {
     "data": {
      "text/plain": [
       "array([45.79166191, 38.17802972, 46.11203272, 30.89070174, 42.59212962,\n",
       "       29.15227735, 34.72587755, 11.7219707 , 11.89837265, 37.8791383 ,\n",
       "       40.97615311, 43.44401354, 43.94371529, 37.15571033, 46.83319812,\n",
       "       45.6827837 , 29.99919997, 42.46849474, 41.07758393, 31.31782244,\n",
       "       52.07920326, 45.6048786 , 45.39664709, 40.79141146, 44.01166396,\n",
       "       31.18848968, 50.18323427, 41.3672811 , 31.68202674, 27.62331376,\n",
       "       25.24610524, 30.0557693 , 29.93515216, 42.3764716 , 46.70781261,\n",
       "       41.59934502, 14.74038035, 43.05233148, 44.08979653, 32.24441623,\n",
       "       44.02212845, 29.3297813 , 45.55416318, 44.97541131, 41.27302056,\n",
       "       48.12620877, 38.03186861, 35.20730191, 51.47904791, 37.13237342,\n",
       "       13.17765708, 13.59379524, 29.66096203, 48.71313201, 40.51738893,\n",
       "       47.92243579, 31.11252611, 38.87496736, 46.84448948, 44.11309479,\n",
       "       41.59546055, 48.22788656, 46.70781261, 48.07549336, 36.38290649,\n",
       "       39.08338019, 37.00582114, 10.67777193, 40.90007999, 30.17670392,\n",
       "       22.64071415, 30.00262107, 29.00194144, 13.71477335, 45.52880548,\n",
       "       41.80889738, 13.92893375, 40.04321119, 40.12282362, 35.95340643,\n",
       "       39.80718296, 29.6988421 , 39.45135601])"
      ]
     },
     "execution_count": 6,
     "metadata": {},
     "output_type": "execute_result"
    }
   ],
   "source": [
    "lm_p = lm.predict(x_test)\n",
    "lm_p\n",
    "#here are the all the houses predicted house_price_of_unit_area"
   ]
  },
  {
   "cell_type": "code",
   "execution_count": 7,
   "id": "8264fcb1",
   "metadata": {},
   "outputs": [
    {
     "data": {
      "text/plain": [
       "141.09942565786673"
      ]
     },
     "execution_count": 7,
     "metadata": {},
     "output_type": "execute_result"
    }
   ],
   "source": [
    "np.mean((y_test-lm_p)**2)\n",
    "# the MSE for house_price_of_unit_area would be 74.89"
   ]
  },
  {
   "cell_type": "code",
   "execution_count": 8,
   "id": "ac802fad",
   "metadata": {},
   "outputs": [],
   "source": [
    "x2= house_price[['house_age', 'number_of_convenience_stores', 'latitude', 'longitude']]\n",
    "y2= house_price['house_price_of_unit_area']\n",
    "\n",
    "x2_train, x2_test, y2_train, y2_test = train_test_split(x2, y2, test_size= 0.2)"
   ]
  },
  {
   "cell_type": "code",
   "execution_count": 9,
   "id": "ac365b52",
   "metadata": {},
   "outputs": [],
   "source": [
    "lm2 = LinearRegression().fit(x2_train, y2_train)"
   ]
  },
  {
   "cell_type": "code",
   "execution_count": 10,
   "id": "ddcc8f93",
   "metadata": {},
   "outputs": [
    {
     "data": {
      "text/plain": [
       "array([32.47909718, 53.12023806, 17.36667397, 37.64255573, 51.68320859,\n",
       "       49.6723542 , 40.60913562, 40.88347197, 12.68447243, 30.51857193,\n",
       "       49.42992152, 41.83730457, 43.38703045, 40.48735314, 40.30614432,\n",
       "       32.18575568, 44.9736853 , 29.09184587, 40.94937755, 33.30033704,\n",
       "       47.8407742 , 44.94073251, 43.17406216, 28.2213643 , 17.00730166,\n",
       "       29.08236849, 35.93126271, 48.86199853, 36.66792223, 33.03964137,\n",
       "       37.85183656, 29.91880673, 39.47309716, 46.49486358, 47.44322334,\n",
       "       34.7814642 , 30.75198278, 38.21357847, 43.1184717 , 27.76230881,\n",
       "       53.39208396, 42.38484273, 26.17304616, 44.99921275, 50.1835449 ,\n",
       "       37.24083773, 40.36469643, 34.65928995, 40.02525122, 31.27220739,\n",
       "       30.19986789, 31.93876959, 35.52223033, 48.86199853, 33.43700988,\n",
       "       35.60423821, 14.97664989, 35.1340416 , 46.84794486, 29.6295863 ,\n",
       "       17.50770405, 46.43571278, 45.85764986, 53.31795481, 35.12038259,\n",
       "       39.86297068, 50.4416324 , 31.6524652 , 41.92709845, 39.21779305,\n",
       "       14.21165601, 34.86429881, 41.59440538, 48.84968617, 39.16217605,\n",
       "       48.97754898, 29.20816541, 29.21417966, 42.98666053, 16.44399581,\n",
       "       36.1372043 , 49.27519038, 55.07959591])"
      ]
     },
     "execution_count": 10,
     "metadata": {},
     "output_type": "execute_result"
    }
   ],
   "source": [
    "lm2_p = lm2.predict(x2_test)\n",
    "lm2_p"
   ]
  },
  {
   "cell_type": "code",
   "execution_count": 11,
   "id": "889e57b9",
   "metadata": {},
   "outputs": [
    {
     "data": {
      "text/plain": [
       "75.843401502346"
      ]
     },
     "execution_count": 11,
     "metadata": {},
     "output_type": "execute_result"
    }
   ],
   "source": [
    "np.mean((y2_test-lm2_p)**2)\n",
    "# the MSE for this module would be 90.3"
   ]
  },
  {
   "cell_type": "code",
   "execution_count": 12,
   "id": "af082a61",
   "metadata": {},
   "outputs": [],
   "source": [
    "# we would want to use model 1 as the MSE is lower which means our module fits our dataset better"
   ]
  },
  {
   "cell_type": "code",
   "execution_count": 16,
   "id": "2a029abf",
   "metadata": {},
   "outputs": [
    {
     "name": "stdout",
     "output_type": "stream",
     "text": [
      "[167.4445177490326, 56.262992097476555, 142.45182628957463, 62.270517818562546, 79.36617016576108, 67.26297743129837, 42.26564121247593, 44.28506802022497, 125.35752715413368, 44.45238605651345, 28.887270300533935, 47.90577289053544, 69.18475004757944, 55.867446559227176, 55.34483848577265, 136.54085414467392, 67.23111010819841, 77.94529562399606, 58.03895336010464, 75.06342437711807, 67.07056169905383, 142.19832297403943, 51.308058101132666, 67.93196209111, 65.83040997414717, 75.3890546493163, 72.14179628840668, 74.15909680802528, 69.06578108790812, 68.94127429916023, 85.20036940421569, 58.25883305049922, 149.73636060277474, 115.23429540192394, 139.99382053935122, 86.03641018959297, 44.23043503934296, 58.375246254352675, 47.16603479412254, 59.99188451466511, 47.110823400622444, 149.65456925832197, 123.61016356396385, 57.712504121095094, 143.2666220365097, 61.986467916436794, 60.005740701324164, 126.62916398756958, 142.56149933149806, 129.58190974262658, 56.20427141667761, 67.69026325554107, 59.75453851435983, 80.61334077189825, 124.17757377058558, 94.43778370046027, 74.73540782198621, 56.42131978238248, 129.02195557963591, 56.10355295159509, 55.60144106477029, 70.54296452384467, 53.417609959623086, 54.831212213679585, 73.16820875963833, 116.68404433811048, 87.62912458203884, 61.29063703279626, 100.78784831235494, 71.02255014268295, 75.78601882039935, 65.90090191681426, 77.75360887570586, 100.77289998247754, 58.08102893981571, 101.59858991368358, 78.22272635130162, 73.30564899725687, 131.09772823415653, 149.38474632973106, 90.06417974108142, 54.05220803162275, 124.47497725511046, 68.18559318168832, 71.13737072014187, 60.333905288500176, 72.33343237868482, 61.687190761496296, 87.97423295336958, 79.80393024884789, 38.666789981362, 65.12554825275548, 53.60430428757813, 145.16362446108414, 82.06425595410525, 141.45942192737266, 74.76514366676942, 70.9669546930327, 62.098181455808344, 74.53570201835572]\n"
     ]
    },
    {
     "data": {
      "text/plain": [
       "81.78345305830675"
      ]
     },
     "execution_count": 16,
     "metadata": {},
     "output_type": "execute_result"
    }
   ],
   "source": [
    "list1 = []\n",
    "list2 = []\n",
    "num = 100\n",
    "from statistics import mean \n",
    "\n",
    "for i in range(num):\n",
    "    x= house_price[['house_age', 'distance_to_the_nearest_MRT_station', 'number_of_convenience_stores', 'latitude', 'longitude']]\n",
    "    y= house_price['house_price_of_unit_area']\n",
    "    x_train, x_test, y_train, y_test = train_test_split(x, y, test_size= 0.2)\n",
    "    lm_p = lm.predict(x_test)\n",
    "    MSE = np.mean((y_test-lm_p)**2)\n",
    "    list1.append(lm_p)\n",
    "    list2.append(MSE)\n",
    "    \n",
    "print(list2)\n",
    "mean(list2)"
   ]
  },
  {
   "cell_type": "code",
   "execution_count": 20,
   "id": "1ca2059a",
   "metadata": {},
   "outputs": [
    {
     "name": "stdout",
     "output_type": "stream",
     "text": [
      "[265.42981203272103, 334.8852981309537, 291.21469537463884, 245.06435801644903, 343.0207494420147, 336.9793930855664, 374.3742828054441, 292.3935129067481, 247.07646477697344, 277.21749419436316, 442.02467807687526, 276.3666287382687, 326.3564030669278, 270.03688348034774, 263.7978351745847, 235.47493687162938, 358.52043005210163, 283.61828873526923, 252.05977931477221, 394.94196600335283, 300.25612419639975, 351.2395275801444, 318.2022086289193, 286.5292104027551, 353.0315191034936, 301.0549392234214, 256.0591289926726, 334.1678400343345, 216.52192488260118, 256.915079593535, 275.235677859917, 310.621845084166, 347.6367220678477, 280.88765182425857, 291.76743697037074, 311.8205681354129, 222.00665564413154, 226.06665942101398, 240.95908268908508, 322.7068709874684, 267.86984771800735, 362.44180318196595, 283.5283004394571, 326.2992484397444, 449.9154022124109, 259.2779412950934, 359.6540524178607, 410.17236199305887, 469.1014895375962, 325.83987662610315, 329.56561702630745, 349.5249758045495, 327.2389164718765, 279.91657614463026, 271.98132980300016, 329.56688021895474, 340.0553201303017, 239.08607605031793, 332.25974908377964, 324.09824545803355, 367.30622672952575, 374.10646437098666, 253.11901518603702, 335.28152002136363, 342.64896682393373, 254.65406701090615, 284.44848871627795, 296.4965061120062, 301.50498539786867, 320.0924910109215, 284.3910191361788, 249.44996079631892, 305.5416523640506, 244.48068617948329, 358.6297148879688, 331.3700407916169, 353.539932110503, 346.5874877100015, 241.3064322258633, 327.36023588281523, 332.1545239757645, 265.91046016903545, 349.68378157443095, 294.39091165802466, 276.3344112086123, 305.6662409513189, 279.0691137410168, 325.4505314991443, 264.11649229849365, 329.12656309947425, 268.42900412018713, 277.5490189491533, 257.93144546031607, 327.8048375273769, 348.9235387504288, 250.2529656222177, 229.11693495361007, 286.2991927757785, 269.2704101315914, 247.13044724216888]\n"
     ]
    },
    {
     "data": {
      "text/plain": [
       "305.0886129282777"
      ]
     },
     "execution_count": 20,
     "metadata": {},
     "output_type": "execute_result"
    }
   ],
   "source": [
    "list3 = []\n",
    "list4 = []\n",
    "num = 100\n",
    "\n",
    "for i in range(num):\n",
    "    x2= house_price[['house_age', 'number_of_convenience_stores', 'latitude', 'longitude']]\n",
    "    y2= house_price['house_price_of_unit_area']\n",
    "    x2_train, x2_test, y2_train, y2_test = train_test_split(x2, y2, test_size= 0.2)\n",
    "    lm_p2 = lm2.predict(x2_test)\n",
    "    MSE = np.mean((y2_test-lm_p)**2)\n",
    "    list3.append(lm_p2)\n",
    "    list4.append(MSE)\n",
    "    \n",
    "print(list4)\n",
    "mean(list4)"
   ]
  },
  {
   "cell_type": "code",
   "execution_count": null,
   "id": "7d9587fe",
   "metadata": {},
   "outputs": [],
   "source": [
    "# Again we can see that module 1 has a better MSE as it is much lower than module 2 for the average through 100 runs showing\n",
    "# that this module is much more effective for our dataset."
   ]
  }
 ],
 "metadata": {
  "kernelspec": {
   "display_name": "conda_python3",
   "language": "python",
   "name": "conda_python3"
  },
  "language_info": {
   "codemirror_mode": {
    "name": "ipython",
    "version": 3
   },
   "file_extension": ".py",
   "mimetype": "text/x-python",
   "name": "python",
   "nbconvert_exporter": "python",
   "pygments_lexer": "ipython3",
   "version": "3.8.12"
  }
 },
 "nbformat": 4,
 "nbformat_minor": 5
}
